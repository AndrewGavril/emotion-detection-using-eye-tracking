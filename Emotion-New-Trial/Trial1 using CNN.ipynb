{
 "cells": [
  {
   "cell_type": "code",
   "execution_count": 1,
   "id": "81962403",
   "metadata": {},
   "outputs": [],
   "source": [
    "import tensorflow as tf\n",
    "from tensorflow import keras\n",
    "import cv2\n",
    "import numpy as np"
   ]
  },
  {
   "cell_type": "code",
   "execution_count": 2,
   "id": "98d640e6",
   "metadata": {},
   "outputs": [],
   "source": [
    "model = keras.Sequential()\n",
    "\n",
    "# Add convolutional layers\n",
    "model.add(keras.layers.Conv2D(32, (3, 3), activation='relu', input_shape=(48, 48, 3)))\n",
    "model.add(keras.layers.MaxPooling2D((2, 2)))\n",
    "model.add(keras.layers.Conv2D(64, (3, 3), activation='relu'))\n",
    "model.add(keras.layers.MaxPooling2D((2, 2)))\n",
    "model.add(keras.layers.Conv2D(64, (3, 3), activation='relu'))\n",
    "\n",
    "# Add dense layers for classification\n",
    "model.add(keras.layers.Flatten())\n",
    "model.add(keras.layers.Dense(64, activation='relu'))\n",
    "model.add(keras.layers.Dense(6, activation='softmax'))"
   ]
  },
  {
   "cell_type": "code",
   "execution_count": 3,
   "id": "daaaaf65",
   "metadata": {},
   "outputs": [],
   "source": [
    "model.compile(loss='categorical_crossentropy', optimizer='adam', metrics=['accuracy'])"
   ]
  },
  {
   "cell_type": "code",
   "execution_count": 4,
   "id": "51dd1b62",
   "metadata": {},
   "outputs": [],
   "source": [
    "def capture_and_process_image():\n",
    "    # Open the device's camera\n",
    "    cap = cv2.VideoCapture(0)\n",
    "\n",
    "    # Capture an image\n",
    "    ret, frame = cap.read()\n",
    "\n",
    "    # Resize the image to 48x48 pixels\n",
    "    frame = cv2.resize(frame, (48, 48))\n",
    "\n",
    "    # Convert the image to floating-point values\n",
    "    frame = frame.astype('float32')\n",
    "    \n",
    "    # Normalize the image\n",
    "    frame /= 255.\n",
    "\n",
    "    # Return the preprocessed image\n",
    "    return frame"
   ]
  },
  {
   "cell_type": "code",
   "execution_count": null,
   "id": "449ce4dd",
   "metadata": {},
   "outputs": [],
   "source": [
    "# Continuously capture and classify images\n",
    "while True:\n",
    "    # Capture and preprocess an image\n",
    "    image = capture_and_process_image()\n",
    "    \n",
    "    # Add a third dimension to the image\n",
    "    image = np.expand_dims(image, axis=0)\n",
    "\n",
    "    # Use the CNN to classify the image\n",
    "    prediction = model.predict(image)\n",
    "\n",
    "    # Print the predicted class\n",
    "    print(prediction)"
   ]
  },
  {
   "cell_type": "code",
   "execution_count": null,
   "id": "d8f8fb73",
   "metadata": {},
   "outputs": [],
   "source": []
  }
 ],
 "metadata": {
  "kernelspec": {
   "display_name": "Python 3 (ipykernel)",
   "language": "python",
   "name": "python3"
  },
  "language_info": {
   "codemirror_mode": {
    "name": "ipython",
    "version": 3
   },
   "file_extension": ".py",
   "mimetype": "text/x-python",
   "name": "python",
   "nbconvert_exporter": "python",
   "pygments_lexer": "ipython3",
   "version": "3.9.12"
  },
  "vscode": {
   "interpreter": {
    "hash": "cf9275b2c429b133a825cb440e5148acfead9efdd2cf98ff845bfc91e732bdcf"
   }
  }
 },
 "nbformat": 4,
 "nbformat_minor": 5
}
